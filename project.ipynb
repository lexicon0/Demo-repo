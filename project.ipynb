{
 "cells": [
  {
   "cell_type": "markdown",
   "metadata": {},
   "source": [
    "Before you turn this problem in, make sure everything runs as expected. First, **restart the kernel** (in the menubar, select Kernel$\\rightarrow$Restart) and then **run all cells** (in the menubar, select Cell$\\rightarrow$Run All).\n",
    "\n",
    "Make sure you fill in any place that says `YOUR CODE HERE` or \"YOUR ANSWER HERE\", as well as your name and collaborators below:"
   ]
  },
  {
   "cell_type": "code",
   "execution_count": null,
   "metadata": {},
   "outputs": [],
   "source": [
    "NAME = \"\"\n",
    "COLLABORATORS = \"\""
   ]
  },
  {
   "cell_type": "markdown",
   "metadata": {},
   "source": [
    "---"
   ]
  },
  {
   "cell_type": "markdown",
   "metadata": {
    "deletable": false,
    "editable": false,
    "nbgrader": {
     "cell_type": "markdown",
     "checksum": "91d6620954a3d839e9ebc0bb9ec39062",
     "grade": false,
     "grade_id": "cell-0dfde00a7c176586",
     "locked": true,
     "schema_version": 3,
     "solution": false,
     "task": false
    }
   },
   "source": [
    "# Final Project\n",
    "\n",
    "This is your project. It accounts for maximum 20% of the final grade.\n",
    "\n",
    "**Instructions**\n",
    "* This project can be solved **in pairs (two students)** or **alone**. In case you work with a teammate, the evaluation will be the same for both team members. You are responsible to make sure that both team members contribute to the project.\n",
    "* This project will be partly **auto-graded** and partly **manually graded**: the auto-grading will check that your answers to the question is correct (or close to be correct) and the manual grading will check your python coding and visualization style. **If your submission fails the auto-grade, you will get 0.** \n",
    "\n",
    "**Note**\n",
    "* Write your code after you see `# YOUR CODE HERE` \n",
    "* Read the instruction of each question. You have a **limited time to submit: Month Date Time**. Only your last submission counts.\n",
    "* Copying the solution of other students is forbidden.\n",
    "* For each exercise example, the symbol `->` indicates the value the function should return.\n",
    "* After the deadline, submission is only possible by email attachment (.ipynb file) to xxx and cc xxx. Late submission will be penalized (up to 100%, if late > 72h )."
   ]
  },
  {
   "cell_type": "markdown",
   "metadata": {
    "deletable": false,
    "editable": false,
    "nbgrader": {
     "cell_type": "markdown",
     "checksum": "144c7a7eb17fe93e871dbf58316a3d80",
     "grade": false,
     "grade_id": "cell-6e21e3e162115c90",
     "locked": true,
     "schema_version": 3,
     "solution": false,
     "task": false
    }
   },
   "source": [
    "**Project Description**\n",
    "\n",
    "The file `\"HKcovid_individual.csv\"` has been downloaded (as of 18 April 2022) from the [Hong Kong government website](https://data.gov.hk/en-data/dataset/hk-dh-chpsebcddr-novel-infectious-agent/resource/dc602108-884a-4af3-bdf3-75b32fe8b5b3). It reports some details of the covid cases since its onset in the city.\n",
    "\n",
    "To learn more about the situation in the city, your project focuses on the following two parts:\n",
    "1. Process and analyze data to answer ten questions \n",
    "2. Create three descriptive plots\n",
    "\n",
    "**Guidelines**\n",
    "\n",
    "* The data may not be fully clean, that is, it may be inconsistent in types (e.g. Age not always available) or inconsistent in record information (e.g. Asymptomatic cases reported differently in different fields). \n",
    "* You will read instructions and hints carefully and apply your best judgement to answer the questions.\n",
    "* For each question, you need to write Python code to answer, and you need to assign the value to a variable.\n",
    "* For Part 1, you need to store your answers in the 'answers' dictionary with keys \"1\", \"2\", \"3\", ... \"10\" and corresponding values (the answer to each question)."
   ]
  },
  {
   "cell_type": "code",
   "execution_count": null,
   "metadata": {
    "ExecuteTime": {
     "end_time": "2022-04-21T04:08:55.977779Z",
     "start_time": "2022-04-21T04:08:54.153197Z"
    },
    "deletable": false,
    "editable": false,
    "nbgrader": {
     "cell_type": "code",
     "checksum": "d4f1e3eaaab12eb631bc847762fe778d",
     "grade": false,
     "grade_id": "cell-13828650a2cce585",
     "locked": true,
     "schema_version": 3,
     "solution": false,
     "task": false
    }
   },
   "outputs": [],
   "source": [
    "# You will need to import these two packages.\n",
    "import pandas as pd\n",
    "import matplotlib.pyplot as plt"
   ]
  },
  {
   "cell_type": "code",
   "execution_count": null,
   "metadata": {
    "ExecuteTime": {
     "end_time": "2022-04-21T04:08:56.034971Z",
     "start_time": "2022-04-21T04:08:55.980264Z"
    },
    "deletable": false,
    "editable": false,
    "nbgrader": {
     "cell_type": "code",
     "checksum": "8ddd8e28b1d296255f60caf51e557be1",
     "grade": false,
     "grade_id": "cell-b62dfc2d227b23cb",
     "locked": true,
     "schema_version": 3,
     "solution": false,
     "task": false
    }
   },
   "outputs": [],
   "source": [
    "# This is your dataset.\n",
    "data = pd.read_csv(\"HKcovid_individual.csv\")\n",
    "data.head()"
   ]
  },
  {
   "cell_type": "markdown",
   "metadata": {
    "deletable": false,
    "editable": false,
    "nbgrader": {
     "cell_type": "markdown",
     "checksum": "8dda6bc27871ed2ff1309a14e63bbc71",
     "grade": false,
     "grade_id": "cell-923a77bedc4dc3dd",
     "locked": true,
     "schema_version": 3,
     "solution": false,
     "task": false
    }
   },
   "source": [
    "## Questions (40 points)\n",
    "\n",
    "Run preliminary data analysis on the dataset to answer the following questions:\n",
    "1. How many unique reported cases in the dataset?\n",
    "2. How many of those reported cases are asymptomatic? (see \"Case status*\" column)\n",
    "3. What is the number of female to number of male ratio among all cases?\n",
    "4. How many people are deceased?\n",
    "5. How many asymptomatic patients (see \"Case status*\" column) are deceased?\n",
    "6. What is the average age among all cases? (Skip all cases with age '<1' or 'Pending')\n",
    "7. What is the average age of deceased people?\n",
    "8. How many cases are either 'Imported cases' or 'Epidemiologically linked with imported case'?\n",
    "9. What is the ratio between 'HK resident' to 'Non-HK resident'?\n",
    "10. (Advanced) Which year-month have the highest number of cases? (Example: '2021-01')\n",
    "\n",
    "Write all your answers in a dictionary named `answers`. This dictionary has keys `\"1\", \"2\", \"3\", ... \"10\"` and values (the answer to each question), respectively."
   ]
  },
  {
   "cell_type": "code",
   "execution_count": null,
   "metadata": {
    "ExecuteTime": {
     "end_time": "2022-04-21T04:08:56.042221Z",
     "start_time": "2022-04-21T04:08:56.037517Z"
    },
    "deletable": false,
    "nbgrader": {
     "cell_type": "code",
     "checksum": "664232be4d3e44423f7d566cc9237336",
     "grade": false,
     "grade_id": "cell-73867e4d85b27570",
     "locked": false,
     "schema_version": 3,
     "solution": true,
     "task": false
    }
   },
   "outputs": [],
   "source": [
    "# 1. How many unique reported cases in the dataset?\n",
    "\n",
    "# YOUR CODE HERE\n"
   ]
  },
  {
   "cell_type": "code",
   "execution_count": null,
   "metadata": {
    "ExecuteTime": {
     "end_time": "2022-04-21T04:08:56.066331Z",
     "start_time": "2022-04-21T04:08:56.043837Z"
    },
    "deletable": false,
    "nbgrader": {
     "cell_type": "code",
     "checksum": "c4a530815a4165e7a5daedaee22f20f5",
     "grade": false,
     "grade_id": "cell-4a32a7e382aa7d5f",
     "locked": false,
     "schema_version": 3,
     "solution": true,
     "task": false
    }
   },
   "outputs": [],
   "source": [
    "# 2. How many of those reported cases are asymptomatic? (see \"Case status*\" column)\n",
    "\n",
    "# YOUR CODE HERE\n"
   ]
  },
  {
   "cell_type": "code",
   "execution_count": null,
   "metadata": {
    "ExecuteTime": {
     "end_time": "2022-04-21T04:08:56.095499Z",
     "start_time": "2022-04-21T04:08:56.068486Z"
    },
    "deletable": false,
    "nbgrader": {
     "cell_type": "code",
     "checksum": "869382d989366f6789fe52e8823525fa",
     "grade": false,
     "grade_id": "cell-ecdea45824738ae1",
     "locked": false,
     "schema_version": 3,
     "solution": true,
     "task": false
    }
   },
   "outputs": [],
   "source": [
    "# 3. What is the number of female to number of male ratio among all cases?\n",
    "\n",
    "# YOUR CODE HERE\n"
   ]
  },
  {
   "cell_type": "code",
   "execution_count": null,
   "metadata": {
    "ExecuteTime": {
     "end_time": "2022-04-21T04:08:56.112617Z",
     "start_time": "2022-04-21T04:08:56.097620Z"
    },
    "deletable": false,
    "nbgrader": {
     "cell_type": "code",
     "checksum": "5c48af1c842f9072ff828c8ea07ecc68",
     "grade": false,
     "grade_id": "cell-468ca0e3d00886bf",
     "locked": false,
     "schema_version": 3,
     "solution": true,
     "task": false
    }
   },
   "outputs": [],
   "source": [
    "# 4. How many people are deceased?\n",
    "\n",
    "# YOUR CODE HERE\n"
   ]
  },
  {
   "cell_type": "code",
   "execution_count": null,
   "metadata": {
    "ExecuteTime": {
     "end_time": "2022-04-21T04:08:56.132929Z",
     "start_time": "2022-04-21T04:08:56.115267Z"
    },
    "deletable": false,
    "nbgrader": {
     "cell_type": "code",
     "checksum": "1235d8af3c35cc5907a619d2d4484e61",
     "grade": false,
     "grade_id": "cell-593e46aca15a101c",
     "locked": false,
     "schema_version": 3,
     "solution": true,
     "task": false
    }
   },
   "outputs": [],
   "source": [
    "# 5. How many asymptomatic patients (see \"Case status*\" column) are deceased?\n",
    "\n",
    "# YOUR CODE HERE\n"
   ]
  },
  {
   "cell_type": "code",
   "execution_count": null,
   "metadata": {
    "ExecuteTime": {
     "end_time": "2022-04-21T04:08:56.348632Z",
     "start_time": "2022-04-21T04:08:56.136218Z"
    },
    "deletable": false,
    "nbgrader": {
     "cell_type": "code",
     "checksum": "5196741e8777ccf38d847a54446f3a49",
     "grade": false,
     "grade_id": "cell-283df28fa346a888",
     "locked": false,
     "schema_version": 3,
     "solution": true,
     "task": false
    }
   },
   "outputs": [],
   "source": [
    "# 6. What is the average age among all cases? (Skip all cases with age '<1' or 'Pending')\n",
    "\n",
    "# YOUR CODE HERE\n"
   ]
  },
  {
   "cell_type": "code",
   "execution_count": null,
   "metadata": {
    "ExecuteTime": {
     "end_time": "2022-04-21T04:08:56.356130Z",
     "start_time": "2022-04-21T04:08:56.351516Z"
    },
    "deletable": false,
    "nbgrader": {
     "cell_type": "code",
     "checksum": "237bf52a668d5698dd9435ebd9c7a99d",
     "grade": false,
     "grade_id": "cell-0dae622178eb3dca",
     "locked": false,
     "schema_version": 3,
     "solution": true,
     "task": false
    }
   },
   "outputs": [],
   "source": [
    "# 7. What is the average age of deceased people?\n",
    "\n",
    "# YOUR CODE HERE\n"
   ]
  },
  {
   "cell_type": "code",
   "execution_count": null,
   "metadata": {
    "ExecuteTime": {
     "end_time": "2022-04-21T04:08:56.378275Z",
     "start_time": "2022-04-21T04:08:56.357586Z"
    },
    "deletable": false,
    "nbgrader": {
     "cell_type": "code",
     "checksum": "aef1d64492a41a24aad983672c3fbc12",
     "grade": false,
     "grade_id": "cell-bd323a853d17160d",
     "locked": false,
     "schema_version": 3,
     "solution": true,
     "task": false
    }
   },
   "outputs": [],
   "source": [
    "# 8 How many cases are either 'Imported cases' or 'Epidemiologically linked with imported case'?\n",
    "\n",
    "# YOUR CODE HERE\n"
   ]
  },
  {
   "cell_type": "code",
   "execution_count": null,
   "metadata": {
    "ExecuteTime": {
     "end_time": "2022-04-21T04:08:56.399627Z",
     "start_time": "2022-04-21T04:08:56.381425Z"
    },
    "deletable": false,
    "nbgrader": {
     "cell_type": "code",
     "checksum": "8b7d090d26c3376219b8d9d453acc658",
     "grade": false,
     "grade_id": "cell-fd491587a578938b",
     "locked": false,
     "schema_version": 3,
     "solution": true,
     "task": false
    }
   },
   "outputs": [],
   "source": [
    "# 9 What is the ratio between 'HK resident' to 'Non-HK resident'?\n",
    "\n",
    "# YOUR CODE HERE\n"
   ]
  },
  {
   "cell_type": "code",
   "execution_count": null,
   "metadata": {
    "ExecuteTime": {
     "end_time": "2022-04-21T04:08:56.429671Z",
     "start_time": "2022-04-21T04:08:56.401966Z"
    },
    "deletable": false,
    "nbgrader": {
     "cell_type": "code",
     "checksum": "4118359151d145ae134304ac37f61b2f",
     "grade": false,
     "grade_id": "cell-39b71287db2d4a79",
     "locked": false,
     "schema_version": 3,
     "solution": true,
     "task": false
    }
   },
   "outputs": [],
   "source": [
    "# 10. (Advanced) Which year-month have the highest number of cases? (Example: '2021-01')\n",
    "# Save the answer in a string. For example year_month = '2021-01' for January 2021\n",
    "\n",
    "# YOUR CODE HERE\n"
   ]
  },
  {
   "cell_type": "code",
   "execution_count": null,
   "metadata": {
    "ExecuteTime": {
     "end_time": "2022-04-21T04:08:56.436159Z",
     "start_time": "2022-04-21T04:08:56.432655Z"
    },
    "deletable": false,
    "nbgrader": {
     "cell_type": "code",
     "checksum": "837e4c67e32c11309244ced93f76dec4",
     "grade": false,
     "grade_id": "cell-3fadcd5e40a4c967",
     "locked": false,
     "schema_version": 3,
     "solution": true,
     "task": false
    }
   },
   "outputs": [],
   "source": [
    "# Write all your answer in a dictionary named answers. \n",
    "# Important: Your dictionary MUST be named 'answers'.\n",
    "# This dictionary has keys \"1\", \"2\", \"3\", ... \"10\" and values (the answer to each question), respectively.\n",
    "\n",
    "# YOUR CODE HERE\n"
   ]
  },
  {
   "cell_type": "code",
   "execution_count": null,
   "metadata": {
    "ExecuteTime": {
     "end_time": "2022-04-21T04:08:56.446609Z",
     "start_time": "2022-04-21T04:08:56.438284Z"
    }
   },
   "outputs": [],
   "source": [
    "# This code should run without errors\n",
    "try:\n",
    "    answers[\"1\"]\n",
    "except:\n",
    "    raise NotImplementedError()"
   ]
  },
  {
   "cell_type": "code",
   "execution_count": null,
   "metadata": {
    "ExecuteTime": {
     "end_time": "2022-04-21T04:08:56.457359Z",
     "start_time": "2022-04-21T04:08:56.448552Z"
    },
    "deletable": false,
    "editable": false,
    "nbgrader": {
     "cell_type": "code",
     "checksum": "05fc560f513597e5b3f7bf683b7f0cf5",
     "grade": true,
     "grade_id": "cell-ec02594ec1b88dfe",
     "locked": true,
     "points": 3,
     "schema_version": 3,
     "solution": false,
     "task": false
    }
   },
   "outputs": [],
   "source": []
  },
  {
   "cell_type": "code",
   "execution_count": null,
   "metadata": {
    "ExecuteTime": {
     "end_time": "2022-04-21T04:08:56.467886Z",
     "start_time": "2022-04-21T04:08:56.459706Z"
    },
    "deletable": false,
    "editable": false,
    "nbgrader": {
     "cell_type": "code",
     "checksum": "b3de302a4c4cd60de58f46fd18b4815d",
     "grade": true,
     "grade_id": "cell-4468c011de369a20",
     "locked": true,
     "points": 4,
     "schema_version": 3,
     "solution": false,
     "task": false
    }
   },
   "outputs": [],
   "source": []
  },
  {
   "cell_type": "code",
   "execution_count": null,
   "metadata": {
    "ExecuteTime": {
     "end_time": "2022-04-21T04:08:56.478722Z",
     "start_time": "2022-04-21T04:08:56.470415Z"
    },
    "deletable": false,
    "editable": false,
    "nbgrader": {
     "cell_type": "code",
     "checksum": "7811c63566cbdf0d4e355b710ba80fb4",
     "grade": true,
     "grade_id": "cell-f5573ce9714dc71d",
     "locked": true,
     "points": 4,
     "schema_version": 3,
     "solution": false,
     "task": false
    }
   },
   "outputs": [],
   "source": []
  },
  {
   "cell_type": "code",
   "execution_count": null,
   "metadata": {
    "ExecuteTime": {
     "end_time": "2022-04-21T04:08:56.489287Z",
     "start_time": "2022-04-21T04:08:56.482613Z"
    },
    "deletable": false,
    "editable": false,
    "nbgrader": {
     "cell_type": "code",
     "checksum": "b604982148cd2952ae8521e41523a93f",
     "grade": true,
     "grade_id": "cell-20f63b74758c8ab4",
     "locked": true,
     "points": 4,
     "schema_version": 3,
     "solution": false,
     "task": false
    }
   },
   "outputs": [],
   "source": []
  },
  {
   "cell_type": "code",
   "execution_count": null,
   "metadata": {
    "ExecuteTime": {
     "end_time": "2022-04-21T04:08:56.501356Z",
     "start_time": "2022-04-21T04:08:56.492547Z"
    },
    "deletable": false,
    "editable": false,
    "nbgrader": {
     "cell_type": "code",
     "checksum": "c7f412954ffc9caa38e364009461a214",
     "grade": true,
     "grade_id": "cell-7a7d342bad8a81c9",
     "locked": true,
     "points": 4,
     "schema_version": 3,
     "solution": false,
     "task": false
    }
   },
   "outputs": [],
   "source": []
  },
  {
   "cell_type": "code",
   "execution_count": null,
   "metadata": {
    "ExecuteTime": {
     "end_time": "2022-04-21T04:08:56.511916Z",
     "start_time": "2022-04-21T04:08:56.505390Z"
    },
    "deletable": false,
    "editable": false,
    "nbgrader": {
     "cell_type": "code",
     "checksum": "d19ca01feb850ef1bde1cd8652678b15",
     "grade": true,
     "grade_id": "cell-b91c45975649d88f",
     "locked": true,
     "points": 4,
     "schema_version": 3,
     "solution": false,
     "task": false
    }
   },
   "outputs": [],
   "source": []
  },
  {
   "cell_type": "code",
   "execution_count": null,
   "metadata": {
    "ExecuteTime": {
     "end_time": "2022-04-21T04:08:56.523031Z",
     "start_time": "2022-04-21T04:08:56.515765Z"
    },
    "deletable": false,
    "editable": false,
    "nbgrader": {
     "cell_type": "code",
     "checksum": "8c6e6053602711221a5470058ca9e798",
     "grade": true,
     "grade_id": "cell-3260bb54127227be",
     "locked": true,
     "points": 4,
     "schema_version": 3,
     "solution": false,
     "task": false
    }
   },
   "outputs": [],
   "source": []
  },
  {
   "cell_type": "code",
   "execution_count": null,
   "metadata": {
    "ExecuteTime": {
     "end_time": "2022-04-21T04:08:56.534542Z",
     "start_time": "2022-04-21T04:08:56.526556Z"
    },
    "deletable": false,
    "editable": false,
    "nbgrader": {
     "cell_type": "code",
     "checksum": "2dede31e2acf834ec03f89cd69bb3f50",
     "grade": true,
     "grade_id": "cell-92feaf38e7e9cb20",
     "locked": true,
     "points": 4,
     "schema_version": 3,
     "solution": false,
     "task": false
    }
   },
   "outputs": [],
   "source": []
  },
  {
   "cell_type": "code",
   "execution_count": null,
   "metadata": {
    "ExecuteTime": {
     "end_time": "2022-04-21T04:08:56.545513Z",
     "start_time": "2022-04-21T04:08:56.537890Z"
    },
    "deletable": false,
    "editable": false,
    "nbgrader": {
     "cell_type": "code",
     "checksum": "65d17d664977d508424b4e9e737c5f9a",
     "grade": true,
     "grade_id": "cell-bfd29bcc31b3ff08",
     "locked": true,
     "points": 4,
     "schema_version": 3,
     "solution": false,
     "task": false
    }
   },
   "outputs": [],
   "source": []
  },
  {
   "cell_type": "code",
   "execution_count": null,
   "metadata": {
    "ExecuteTime": {
     "end_time": "2022-04-21T04:08:56.556775Z",
     "start_time": "2022-04-21T04:08:56.548918Z"
    },
    "deletable": false,
    "editable": false,
    "nbgrader": {
     "cell_type": "code",
     "checksum": "e0b402d5623ce3a61724a76580d48ee6",
     "grade": true,
     "grade_id": "cell-a6a9afeff501a966",
     "locked": true,
     "points": 5,
     "schema_version": 3,
     "solution": false,
     "task": false
    }
   },
   "outputs": [],
   "source": []
  },
  {
   "cell_type": "markdown",
   "metadata": {
    "deletable": false,
    "editable": false,
    "nbgrader": {
     "cell_type": "markdown",
     "checksum": "f23ad5f8aba4564ffdf03a459daa89ac",
     "grade": false,
     "grade_id": "cell-24e7efe773ce1cd0",
     "locked": true,
     "schema_version": 3,
     "solution": false,
     "task": false
    }
   },
   "source": [
    "## Visualization (60 points)\n",
    "\n",
    "Below are four plots that have been produced using the dataset. You need to replicate **any three out of the four plots** in order to get full grades. Your python coding, visualization style, and the appearance of the plots will be manually graded.\n",
    "\n",
    "Note that the plots below are ordered by the level to replicate from easy to hard. Each plot is assigned to 20 points. The total points for this part is 60, which means even if you have four plots correct you will not get extra points.  \n",
    "\n",
    "Read the **hints** carefully to help you get started."
   ]
  },
  {
   "cell_type": "markdown",
   "metadata": {
    "deletable": false,
    "editable": false,
    "nbgrader": {
     "cell_type": "markdown",
     "checksum": "3e07d4d7cecb42c72eaad7a8a991bec9",
     "grade": false,
     "grade_id": "cell-7770f32f02c2c433",
     "locked": true,
     "schema_version": 3,
     "solution": false,
     "task": false
    }
   },
   "source": [
    "![plot1](plot1.png)"
   ]
  },
  {
   "cell_type": "markdown",
   "metadata": {
    "deletable": false,
    "editable": false,
    "nbgrader": {
     "cell_type": "markdown",
     "checksum": "802eed66ac03a04b2e8fd419dbc852dd",
     "grade": false,
     "grade_id": "cell-7770f32f02c2c434",
     "locked": true,
     "schema_version": 3,
     "solution": false,
     "task": false
    }
   },
   "source": [
    "![plot2](plot2.png)"
   ]
  },
  {
   "cell_type": "markdown",
   "metadata": {
    "deletable": false,
    "editable": false,
    "nbgrader": {
     "cell_type": "markdown",
     "checksum": "25053c2480950a158053910c586f5a7f",
     "grade": false,
     "grade_id": "cell-7770f32f02c2c435",
     "locked": true,
     "schema_version": 3,
     "solution": false,
     "task": false
    }
   },
   "source": [
    "![plot3](plot3.png)"
   ]
  },
  {
   "cell_type": "markdown",
   "metadata": {
    "deletable": false,
    "editable": false,
    "nbgrader": {
     "cell_type": "markdown",
     "checksum": "2c5c9ca919393567aab051867f7996c6",
     "grade": false,
     "grade_id": "cell-7770f32f02c2c436",
     "locked": true,
     "schema_version": 3,
     "solution": false,
     "task": false
    }
   },
   "source": [
    "![plot4](plot4.png)"
   ]
  },
  {
   "cell_type": "code",
   "execution_count": null,
   "metadata": {
    "ExecuteTime": {
     "end_time": "2022-04-21T04:08:56.800269Z",
     "start_time": "2022-04-21T04:08:56.559999Z"
    },
    "deletable": false,
    "nbgrader": {
     "cell_type": "code",
     "checksum": "2752f34876fdbdcb7f164ee121aad385",
     "grade": true,
     "grade_id": "cell-32e5094c97d10c15",
     "locked": false,
     "points": 15,
     "schema_version": 3,
     "solution": true,
     "task": false
    }
   },
   "outputs": [],
   "source": [
    "# Hint for plot 1:\n",
    "# You need to transform the date (in string) into datetime format\n",
    "data[\"date_reported\"] =  pd.to_datetime(data[\"Report date\"], format=\"%d/%m/%Y\")\n",
    "\n",
    "# You should use the groubby method on the new date\n",
    "data.groupby(\"date_reported\").size()\n",
    "\n",
    "# YOUR CODE HERE\n"
   ]
  },
  {
   "cell_type": "code",
   "execution_count": null,
   "metadata": {
    "ExecuteTime": {
     "end_time": "2022-04-21T04:08:56.969350Z",
     "start_time": "2022-04-21T04:08:56.801985Z"
    },
    "deletable": false,
    "nbgrader": {
     "cell_type": "code",
     "checksum": "bfcae8e04a0ac11dd40713a9b4ca6887",
     "grade": true,
     "grade_id": "cell-00a7225b7d9cbd81",
     "locked": false,
     "points": 15,
     "schema_version": 3,
     "solution": true,
     "task": false
    }
   },
   "outputs": [],
   "source": [
    "# Hint for plot 2:\n",
    "# a pandas series has a method .cumsum()\n",
    "\n",
    "# YOUR CODE HERE\n"
   ]
  },
  {
   "cell_type": "code",
   "execution_count": null,
   "metadata": {
    "ExecuteTime": {
     "end_time": "2022-04-21T04:08:57.246710Z",
     "start_time": "2022-04-21T04:08:56.972255Z"
    },
    "deletable": false,
    "nbgrader": {
     "cell_type": "code",
     "checksum": "1331eccdc86344bc7d89e7d9b254303f",
     "grade": true,
     "grade_id": "cell-fd0b4f293812b4d6",
     "locked": false,
     "points": 15,
     "schema_version": 3,
     "solution": true,
     "task": false
    }
   },
   "outputs": [],
   "source": [
    "# Hint for plot 3:\n",
    "# a second y-axis can be added with ax2 = ax1.twinx() \n",
    "\n",
    "# YOUR CODE HERE\n"
   ]
  },
  {
   "cell_type": "code",
   "execution_count": null,
   "metadata": {
    "ExecuteTime": {
     "end_time": "2022-04-21T04:08:58.424290Z",
     "start_time": "2022-04-21T04:08:57.248688Z"
    },
    "deletable": false,
    "nbgrader": {
     "cell_type": "code",
     "checksum": "ba74aaed22900288c61e6e224594ac31",
     "grade": true,
     "grade_id": "cell-9b8dc201005d74d5",
     "locked": false,
     "points": 15,
     "schema_version": 3,
     "solution": true,
     "task": false
    }
   },
   "outputs": [],
   "source": [
    "# Hint for plot 4:\n",
    "# pandas has a crosstab function. You better use that before plotting\n",
    "pd.crosstab(data[\"Age\"], data[\"Gender\"])\n",
    "\n",
    "# YOUR CODE HERE\n"
   ]
  }
 ],
 "metadata": {
  "kernelspec": {
   "display_name": "Python 3",
   "language": "python",
   "name": "python3"
  },
  "language_info": {
   "codemirror_mode": {
    "name": "ipython",
    "version": 3
   },
   "file_extension": ".py",
   "mimetype": "text/x-python",
   "name": "python",
   "nbconvert_exporter": "python",
   "pygments_lexer": "ipython3",
   "version": "3.7.13"
  },
  "latex_envs": {
   "LaTeX_envs_menu_present": true,
   "autoclose": false,
   "autocomplete": true,
   "bibliofile": "biblio.bib",
   "cite_by": "apalike",
   "current_citInitial": 1,
   "eqLabelWithNumbers": true,
   "eqNumInitial": 1,
   "hotkeys": {
    "equation": "Ctrl-E",
    "itemize": "Ctrl-I"
   },
   "labels_anchors": false,
   "latex_user_defs": false,
   "report_style_numbering": false,
   "user_envs_cfg": false
  },
  "toc": {
   "base_numbering": 1,
   "nav_menu": {},
   "number_sections": true,
   "sideBar": true,
   "skip_h1_title": true,
   "title_cell": "Table of Contents",
   "title_sidebar": "Contents",
   "toc_cell": false,
   "toc_position": {
    "height": "calc(100% - 180px)",
    "left": "10px",
    "top": "150px",
    "width": "169px"
   },
   "toc_section_display": true,
   "toc_window_display": true
  }
 },
 "nbformat": 4,
 "nbformat_minor": 4
}
